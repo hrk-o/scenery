{
 "cells": [
  {
   "cell_type": "markdown",
   "metadata": {},
   "source": [
    "\t\n",
    "<img src=\"https://t.pimg.jp/072/264/026/5/72264026.jpg\">"
   ]
  },
  {
   "cell_type": "code",
   "execution_count": 1,
   "metadata": {},
   "outputs": [],
   "source": [
    "import pandas as pd"
   ]
  },
  {
   "cell_type": "code",
   "execution_count": 2,
   "metadata": {},
   "outputs": [],
   "source": [
    "def getone_to_many_matrix(scores):#一対比較表列の作成\n",
    "    matrix = [[0 for i in range(len(scores))] for j in range(len(scores))]\n",
    "    for i in range(len(scores)):\n",
    "        for j in range(len(scores)):\n",
    "            if scores[i] > 0:\n",
    "                matrix[i][j] = scores[j] / scores[i]\n",
    "            else:\n",
    "                matrix[i][j] = 0\n",
    "    return matrix"
   ]
  },
  {
   "cell_type": "code",
   "execution_count": 3,
   "metadata": {},
   "outputs": [],
   "source": [
    "def getgeometric_mean(matrix):#幾何平均の計算\n",
    "    mmean = [0.0 for i in range(len(matrix))]\n",
    "    for i in range(len(matrix)):\n",
    "        for j in range(len(matrix[i])):\n",
    "            if j == 0:\n",
    "                mmean[i] = matrix[i][j]\n",
    "            else:\n",
    "                mmean[i] = mmean[i] * matrix[i][j]\n",
    "        mmean[i] = mmean[i] ** (1 / len(matrix[i]))\n",
    "    return mmean"
   ]
  },
  {
   "cell_type": "code",
   "execution_count": 4,
   "metadata": {},
   "outputs": [],
   "source": [
    "def getweight(mmean):\n",
    "    weight = [0 for i in range(len(mmean))]\n",
    "    for i in range(len(mmean)):\n",
    "        if sum(mmean) != 0:\n",
    "            weight[i] = mmean[i] / sum(mmean)\n",
    "    return weight"
   ]
  },
  {
   "cell_type": "code",
   "execution_count": 5,
   "metadata": {},
   "outputs": [],
   "source": [
    "def getscore(weight1, weight2):\n",
    "    score = [0 for i in range(len(weight1))]\n",
    "    for i in range(len(weight1)):\n",
    "        for j in range(len(weight2)):\n",
    "            score[i] += weight1[i][j] * weight2[j]\n",
    "    return score"
   ]
  },
  {
   "cell_type": "code",
   "execution_count": 6,
   "metadata": {},
   "outputs": [
    {
     "name": "stdout",
     "output_type": "stream",
     "text": [
      "スコア [5, 7, 3, 5, 5, 1, 1, 1, 1, 1, 1, 3]\n",
      "一対比較 [[1.0, 1.4, 0.6, 1.0, 1.0, 0.2, 0.2, 0.2, 0.2, 0.2, 0.2, 0.6], [0.7142857142857143, 1.0, 0.42857142857142855, 0.7142857142857143, 0.7142857142857143, 0.14285714285714285, 0.14285714285714285, 0.14285714285714285, 0.14285714285714285, 0.14285714285714285, 0.14285714285714285, 0.42857142857142855], [1.6666666666666667, 2.3333333333333335, 1.0, 1.6666666666666667, 1.6666666666666667, 0.3333333333333333, 0.3333333333333333, 0.3333333333333333, 0.3333333333333333, 0.3333333333333333, 0.3333333333333333, 1.0], [1.0, 1.4, 0.6, 1.0, 1.0, 0.2, 0.2, 0.2, 0.2, 0.2, 0.2, 0.6], [1.0, 1.4, 0.6, 1.0, 1.0, 0.2, 0.2, 0.2, 0.2, 0.2, 0.2, 0.6], [5.0, 7.0, 3.0, 5.0, 5.0, 1.0, 1.0, 1.0, 1.0, 1.0, 1.0, 3.0], [5.0, 7.0, 3.0, 5.0, 5.0, 1.0, 1.0, 1.0, 1.0, 1.0, 1.0, 3.0], [5.0, 7.0, 3.0, 5.0, 5.0, 1.0, 1.0, 1.0, 1.0, 1.0, 1.0, 3.0], [5.0, 7.0, 3.0, 5.0, 5.0, 1.0, 1.0, 1.0, 1.0, 1.0, 1.0, 3.0], [5.0, 7.0, 3.0, 5.0, 5.0, 1.0, 1.0, 1.0, 1.0, 1.0, 1.0, 3.0], [5.0, 7.0, 3.0, 5.0, 5.0, 1.0, 1.0, 1.0, 1.0, 1.0, 1.0, 3.0], [1.6666666666666667, 2.3333333333333335, 1.0, 1.6666666666666667, 1.6666666666666667, 0.3333333333333333, 0.3333333333333333, 0.3333333333333333, 0.3333333333333333, 0.3333333333333333, 0.3333333333333333, 1.0]]\n",
      "幾何平均 [0.4223938074349043, 0.30170986245350306, 0.7039896790581738, 0.4223938074349043, 0.4223938074349043, 2.1119690371745214, 2.1119690371745214, 2.1119690371745214, 2.1119690371745214, 2.1119690371745214, 2.1119690371745214, 0.7039896790581738]\n",
      "ウェイト [0.026992287917737792, 0.019280205655526995, 0.04498714652956298, 0.026992287917737792, 0.026992287917737792, 0.13496143958868895, 0.13496143958868895, 0.13496143958868895, 0.13496143958868895, 0.13496143958868895, 0.13496143958868895, 0.04498714652956298]\n"
     ]
    }
   ],
   "source": [
    "#ユーザ評価ー色\n",
    "score_color = [5, 7, 3, 5, 5, 1, 1, 1, 1, 1, 1, 3]\n",
    "print('スコア',score_color)\n",
    "score_color_matrix = getone_to_many_matrix(scores=score_color)\n",
    "print('一対比較', score_color_matrix)\n",
    "score_color_mmean = getgeometric_mean(matrix=score_color_matrix)\n",
    "print('幾何平均',score_color_mmean)\n",
    "score_color_weight = getweight(score_color_mmean)\n",
    "print('ウェイト',score_color_weight)"
   ]
  },
  {
   "cell_type": "code",
   "execution_count": 7,
   "metadata": {},
   "outputs": [
    {
     "name": "stdout",
     "output_type": "stream",
     "text": [
      "スコア [[1.0, 0.0, 0.0005777777777777, 0.0, 0.0075037037037037, 3.3333333333333335e-05, 0.4439629629629629, 0.2071111111111111, 0.2398074074074074, 0.0026407407407407, 0.0010851851851851, 1.4814814814814817e-05], [7.0, 0.0, 0.0005777777777777, 0.0, 0.0075037037037037, 3.3333333333333335e-05, 0.4439629629629629, 0.2071111111111111, 0.2398074074074074, 0.0026407407407407, 0.0010851851851851, 1.4814814814814817e-05]]\n",
      "スコア [1.0, 7.0]\n",
      "一対比較 [[1.0, 7.0], [0.14285714285714285, 1.0]]\n",
      "幾何平均 [2.6457513110645907, 0.3779644730092272]\n",
      "ウェイト [0.875, 0.12499999999999999]\n",
      "スコア [0.0, 0.0]\n",
      "一対比較 [[0, 0], [0, 0]]\n",
      "幾何平均 [0.0, 0.0]\n",
      "ウェイト [0, 0]\n",
      "スコア [0.0005777777777777, 0.0005777777777777]\n",
      "一対比較 [[1.0, 1.0], [1.0, 1.0]]\n",
      "幾何平均 [1.0, 1.0]\n",
      "ウェイト [0.5, 0.5]\n",
      "スコア [0.0, 0.0]\n",
      "一対比較 [[0, 0], [0, 0]]\n",
      "幾何平均 [0.0, 0.0]\n",
      "ウェイト [0, 0]\n",
      "スコア [0.0075037037037037, 0.0075037037037037]\n",
      "一対比較 [[1.0, 1.0], [1.0, 1.0]]\n",
      "幾何平均 [1.0, 1.0]\n",
      "ウェイト [0.5, 0.5]\n",
      "スコア [3.3333333333333335e-05, 3.3333333333333335e-05]\n",
      "一対比較 [[1.0, 1.0], [1.0, 1.0]]\n",
      "幾何平均 [1.0, 1.0]\n",
      "ウェイト [0.5, 0.5]\n",
      "スコア [0.4439629629629629, 0.4439629629629629]\n",
      "一対比較 [[1.0, 1.0], [1.0, 1.0]]\n",
      "幾何平均 [1.0, 1.0]\n",
      "ウェイト [0.5, 0.5]\n",
      "スコア [0.2071111111111111, 0.2071111111111111]\n",
      "一対比較 [[1.0, 1.0], [1.0, 1.0]]\n",
      "幾何平均 [1.0, 1.0]\n",
      "ウェイト [0.5, 0.5]\n",
      "スコア [0.2398074074074074, 0.2398074074074074]\n",
      "一対比較 [[1.0, 1.0], [1.0, 1.0]]\n",
      "幾何平均 [1.0, 1.0]\n",
      "ウェイト [0.5, 0.5]\n",
      "スコア [0.0026407407407407, 0.0026407407407407]\n",
      "一対比較 [[1.0, 1.0], [1.0, 1.0]]\n",
      "幾何平均 [1.0, 1.0]\n",
      "ウェイト [0.5, 0.5]\n",
      "スコア [0.0010851851851851, 0.0010851851851851]\n",
      "一対比較 [[1.0, 1.0], [1.0, 1.0]]\n",
      "幾何平均 [1.0, 1.0]\n",
      "ウェイト [0.5, 0.5]\n",
      "スコア [1.4814814814814817e-05, 1.4814814814814817e-05]\n",
      "一対比較 [[1.0, 1.0], [1.0, 1.0]]\n",
      "幾何平均 [1.0, 1.0]\n",
      "ウェイト [0.5, 0.5]\n",
      "画像色 [(0.875, 0, 0.5, 0, 0.5, 0.5, 0.5, 0.5, 0.5, 0.5, 0.5, 0.5), (0.12499999999999999, 0, 0.5, 0, 0.5, 0.5, 0.5, 0.5, 0.5, 0.5, 0.5, 0.5)]\n"
     ]
    }
   ],
   "source": [
    "#画像評価ー色\n",
    "image_color = pd.read_csv('./shizuoka_imagecolors.csv', header=None).values.tolist()\n",
    "print('スコア', image_color)\n",
    "image_color_weights = []#weight合わせ\n",
    "for index in range(len(image_color[0])):\n",
    "    print('スコア', [image_color[i][index] for i in range(len(image_color))])\n",
    "    image_color_matrix = getone_to_many_matrix(scores=[image_color[i][index] for i in range(len(image_color))])\n",
    "    print('一対比較', image_color_matrix)\n",
    "    image_color_mmean = getgeometric_mean(image_color_matrix)\n",
    "    print('幾何平均',image_color_mmean)\n",
    "    image_color_weight = getweight(image_color_mmean)\n",
    "    print('ウェイト',image_color_weight)\n",
    "    image_color_weights.append(image_color_weight)\n",
    "image_color_weights = list(zip(*image_color_weights))\n",
    "print('画像色',image_color_weights)"
   ]
  },
  {
   "cell_type": "code",
   "execution_count": 8,
   "metadata": {},
   "outputs": [
    {
     "data": {
      "text/plain": [
       "[0.4869858611825193, 0.4667416452442159]"
      ]
     },
     "execution_count": 8,
     "metadata": {},
     "output_type": "execute_result"
    }
   ],
   "source": [
    "#スコア\n",
    "getscore(image_color_weights, score_color_weight)"
   ]
  }
 ],
 "metadata": {
  "kernelspec": {
   "display_name": "Python 3",
   "language": "python",
   "name": "python3"
  },
  "language_info": {
   "codemirror_mode": {
    "name": "ipython",
    "version": 3
   },
   "file_extension": ".py",
   "mimetype": "text/x-python",
   "name": "python",
   "nbconvert_exporter": "python",
   "pygments_lexer": "ipython3",
   "version": "3.8.3"
  }
 },
 "nbformat": 4,
 "nbformat_minor": 4
}
